{
 "cells": [
  {
   "cell_type": "markdown",
   "metadata": {},
   "source": [
    "# Jugs Puzzle"
   ]
  },
  {
   "cell_type": "code",
   "execution_count": 35,
   "metadata": {},
   "outputs": [],
   "source": [
    "# Holds state of the two jugs.\n",
    "class JugsState:\n",
    "    big_max: int = 4\n",
    "    '''Maximum level of the big jug.'''\n",
    "    small_max: int = 3\n",
    "    '''Maximum level of the small jug.'''\n",
    "\n",
    "    def __init__(self, big: int, small: int):\n",
    "        '''Initialize member properties.'''\n",
    "        \n",
    "        # Water level of the big jug\n",
    "        self.big = big\n",
    "        # Water level of the small jug\n",
    "        self.small = small\n",
    "        \n",
    "    def __str__(self):\n",
    "        '''Format the jugs state.'''\n",
    "        return '{\"big\": %d, \"small\": %d}' % (self.big, self.small)\n",
    "    \n",
    "    def fill_big(self):\n",
    "        '''Returns next state after filling the big jug to full.'''\n",
    "        return JugsState(JugsState.big_max, self.small)\n",
    "\n",
    "    def fill_small(self):\n",
    "        '''Returns next state after filling the small jug to full.'''\n",
    "        return JugsState(self.big, JugsState.small_max)\n",
    "\n",
    "    def drain_big(self):\n",
    "        '''Returns next state after draining the big jug.'''\n",
    "        return JugsState(0, self.small)\n",
    "\n",
    "    def drain_small(self):\n",
    "        '''Returns next state after draining the small jug.'''\n",
    "        return JugsState(self.big, 0)\n",
    "    \n",
    "    def pour_big_to_small(self):\n",
    "        '''Returns next state after pouring some water from big jug to small jug.'''\n",
    "        if (self.big + self.small) >= JugsState.small_max:\n",
    "            next_big = self.big - (JugsState.small_max - self.small)\n",
    "            next_small = JugsState.small_max\n",
    "        else:\n",
    "            next_big = 0\n",
    "            next_small = self.big + self.small\n",
    "        return JugsState(next_big, next_small)\n",
    "                \n",
    "    def pour_small_to_big(self):\n",
    "        '''Returns next state after pouring some water from small jug to big jug.'''\n",
    "        if (self.big + self.small) >= JugsState.big_max:\n",
    "            next_big = JugsState.big_max\n",
    "            next_small = self.small - (JugsState.big_max - self.big)\n",
    "        else:\n",
    "            next_big = self.big + self.small\n",
    "            next_small = 0\n",
    "        return JugsState(next_big, next_small)"
   ]
  },
  {
   "cell_type": "markdown",
   "metadata": {},
   "source": [
    "Ok so let's test this :)"
   ]
  },
  {
   "cell_type": "code",
   "execution_count": 41,
   "metadata": {},
   "outputs": [
    {
     "name": "stdout",
     "output_type": "stream",
     "text": [
      "{\"big\": 0, \"small\": 0}\n"
     ]
    }
   ],
   "source": [
    "# Create initial state\n",
    "cur = JugsState(0, 0)\n",
    "print(cur)"
   ]
  },
  {
   "cell_type": "code",
   "execution_count": 42,
   "metadata": {},
   "outputs": [
    {
     "name": "stdout",
     "output_type": "stream",
     "text": [
      "{\"big\": 4, \"small\": 0}\n"
     ]
    }
   ],
   "source": [
    "# Fill the big jug\n",
    "cur = cur.fill_big()\n",
    "print(cur)"
   ]
  },
  {
   "cell_type": "code",
   "execution_count": 43,
   "metadata": {},
   "outputs": [
    {
     "name": "stdout",
     "output_type": "stream",
     "text": [
      "{\"big\": 1, \"small\": 3}\n"
     ]
    }
   ],
   "source": [
    "# Pour from big to small\n",
    "cur = cur.pour_big_to_small()\n",
    "print(cur)"
   ]
  },
  {
   "cell_type": "code",
   "execution_count": 44,
   "metadata": {},
   "outputs": [
    {
     "name": "stdout",
     "output_type": "stream",
     "text": [
      "{\"big\": 0, \"small\": 3}\n"
     ]
    }
   ],
   "source": [
    "# Drain big\n",
    "cur = cur.drain_big()\n",
    "print(cur)"
   ]
  },
  {
   "cell_type": "markdown",
   "metadata": {},
   "source": [
    "Can you guess what's the result of the code below?\n",
    "\n",
    "Uncomment to check if you guessed right!"
   ]
  },
  {
   "cell_type": "code",
   "execution_count": 46,
   "metadata": {},
   "outputs": [],
   "source": [
    "# Pour from small to big\n",
    "#cur = cur.pour_small_to_big()\n",
    "#print(cur)"
   ]
  }
 ],
 "metadata": {
  "kernelspec": {
   "display_name": "Python 3",
   "language": "python",
   "name": "python3"
  },
  "language_info": {
   "codemirror_mode": {
    "name": "ipython",
    "version": 3
   },
   "file_extension": ".py",
   "mimetype": "text/x-python",
   "name": "python",
   "nbconvert_exporter": "python",
   "pygments_lexer": "ipython3",
   "version": "3.6.3"
  }
 },
 "nbformat": 4,
 "nbformat_minor": 2
}
